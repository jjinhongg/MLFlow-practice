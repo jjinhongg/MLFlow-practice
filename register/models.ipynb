{
 "cells": [
  {
   "cell_type": "markdown",
   "metadata": {},
   "source": [
    "## Working with Models in a Registry\n",
    "\n",
    "For this to work, you'll need to point MLflow to a database and path. When running locally, you must do this otherwise you'll get into error conditions.\n",
    "\n",
    "In the terminal, start a server with:\n",
    "\n",
    "```\n",
    "mlflow server --backend-store-uri sqlite:///mlflow.db --default-artifact-root /tmp/ --host 127.0.0.1:5000\n",
    "```\n",
    "\n",
    "The value of `--host` must match the tracking uri in the next cell."
   ]
  },
  {
   "cell_type": "code",
   "execution_count": 1,
   "metadata": {},
   "outputs": [],
   "source": [
    "import mlflow\n",
    "mlflow.set_tracking_uri(\"http://127.0.0.1:5000\")\n",
    "from mlflow import MlflowClient\n",
    "client = MlflowClient()"
   ]
  },
  {
   "cell_type": "code",
   "execution_count": 5,
   "metadata": {},
   "outputs": [
    {
     "data": {
      "text/plain": [
       "<RegisteredModel: aliases={}, creation_timestamp=1698032899743, description='', last_updated_timestamp=1698032899743, latest_versions=[], name='t5-onnx', tags={}>"
      ]
     },
     "execution_count": 5,
     "metadata": {},
     "output_type": "execute_result"
    }
   ],
   "source": [
    "# Create a new registered model\n",
    "# this model must not exist already\n",
    "client.create_registered_model(\"t5-onnx\")"
   ]
  },
  {
   "cell_type": "code",
   "execution_count": 4,
   "metadata": {},
   "outputs": [],
   "source": [
    "# Delete a registered model\n",
    "client.delete_registered_model(\"t5-onnx\")"
   ]
  },
  {
   "cell_type": "code",
   "execution_count": null,
   "metadata": {},
   "outputs": [],
   "source": [
    "# Retrieving and updating models\n",
    "# model_name = \"t5-onnx\"\n",
    "# model_version = 1\n",
    "\n",
    "# model = mlflow.pyfunc.load_model(\n",
    "#     model_uri=f\"models:/{model_name}/{model_version}\"\n",
    "# )"
   ]
  },
  {
   "cell_type": "markdown",
   "metadata": {},
   "source": [
    "# Updating model versions and descriptions\n",
    "\n",
    "We can also update the registered model's version and description by running `MlflowClient.update_model_version`. If we don't have a registered model, or a previous version, an error will be returned. For this notebook, we can run:\n",
    "\n",
    "```\n",
    "cd serve\n",
    "python log_model.py\n",
    "```\n",
    "from the `/serve` directory. This will create a model named `t5-small-summarizer` that translates English into German texts. When we run the `log_model.py` script, it will log the model run associated with our defined model."
   ]
  },
  {
   "cell_type": "code",
   "execution_count": 6,
   "metadata": {},
   "outputs": [
    {
     "data": {
      "text/plain": [
       "<ModelVersion: aliases=[], creation_timestamp=1698032254884, current_stage='None', description='This is the T5 model in an ONNX version 1.6 using Opset 12', last_updated_timestamp=1698032938145, name='t5-small-summarizer', run_id='69a014f2172b4099ba7fe10e5db66ae7', run_link='', source='/tmp/0/69a014f2172b4099ba7fe10e5db66ae7/artifacts/model', status='READY', status_message='', tags={}, user_id='', version='1'>"
      ]
     },
     "execution_count": 6,
     "metadata": {},
     "output_type": "execute_result"
    }
   ],
   "source": [
    "# This should fail if there is no previous version created\n",
    "client.update_model_version(\n",
    "    name = \"t5-small-summarizer\",\n",
    "    version = 1,\n",
    "    description = \"This is the T5 model in an ONNX version 1.6 using Opset 12\"\n",
    ")"
   ]
  },
  {
   "cell_type": "markdown",
   "metadata": {},
   "source": []
  },
  {
   "cell_type": "code",
   "execution_count": null,
   "metadata": {},
   "outputs": [],
   "source": []
  },
  {
   "cell_type": "markdown",
   "metadata": {},
   "source": []
  }
 ],
 "metadata": {
  "kernelspec": {
   "display_name": "Python 3.8.13 ('mlflow')",
   "language": "python",
   "name": "python3"
  },
  "language_info": {
   "codemirror_mode": {
    "name": "ipython",
    "version": 3
   },
   "file_extension": ".py",
   "mimetype": "text/x-python",
   "name": "python",
   "nbconvert_exporter": "python",
   "pygments_lexer": "ipython3",
   "version": "3.8.13"
  },
  "orig_nbformat": 4,
  "vscode": {
   "interpreter": {
    "hash": "8bc63510bc167e8d8816c19857f9b9888864e109f1a49630617fda89607e685f"
   }
  }
 },
 "nbformat": 4,
 "nbformat_minor": 2
}
